{
 "cells": [
  {
   "cell_type": "markdown",
   "id": "9322ecd9-855c-452d-b7ca-a7dc285e6516",
   "metadata": {},
   "source": [
    "# Data Science Tools and Ecosystem"
   ]
  },
  {
   "cell_type": "markdown",
   "id": "af37b7c2-9ef4-4421-a8a6-8e5962afaae0",
   "metadata": {},
   "source": [
    "In this notebook, Data Science Tools and Ecosystem are summarized."
   ]
  },
  {
   "cell_type": "markdown",
   "id": "b6e5dc8e-40ed-4c6e-9f69-3239effcb4ce",
   "metadata": {},
   "source": [
    "__Objectives:__\n",
    "* List popular languages for Data Science\n",
    "* List commonly used libraries used by Data Scientists\n",
    "* List the development environment open source tools used in Data Science\n",
    "* Calculate simple arithmetic expressions\n",
    "* Units Conversion (for eg., from minutes to hours)"
   ]
  },
  {
   "cell_type": "markdown",
   "id": "b9a5d48f-ff9d-4eea-ba4a-902979d8f4ea",
   "metadata": {},
   "source": [
    "Some of the popular languages that Data Scientists use are:\n",
    "1. Python\n",
    "2. R\n",
    "3. Scala"
   ]
  },
  {
   "cell_type": "markdown",
   "id": "07a478e7-6937-423a-aedd-aab27b34f549",
   "metadata": {},
   "source": [
    "Some of the commonly used libraries used by Data Scientists include:\n",
    "1. numpy\n",
    "2. pandas\n",
    "3. matplotlib"
   ]
  },
  {
   "cell_type": "markdown",
   "id": "286461b0-624b-418c-bd4e-78a6b489917c",
   "metadata": {},
   "source": [
    "| Data Science Tools |\n",
    "|--------------------|\n",
    "| Jupyter Notebook |\n",
    "| R Studio |\n",
    "| VS Code |"
   ]
  },
  {
   "cell_type": "markdown",
   "id": "273a2bf8-c7d6-42a3-8411-6ecae38718da",
   "metadata": {},
   "source": [
    "### Below are a few examples of evaluating arithmetic expressions in Python"
   ]
  },
  {
   "cell_type": "code",
   "execution_count": 1,
   "id": "0c1ef0a5-2c65-4de7-96e5-ccf63c790e2c",
   "metadata": {},
   "outputs": [
    {
     "data": {
      "text/plain": [
       "17"
      ]
     },
     "execution_count": 1,
     "metadata": {},
     "output_type": "execute_result"
    }
   ],
   "source": [
    "# This is a simple arithmetic expression to mutiply then add integers\n",
    "(3*4)+5"
   ]
  },
  {
   "cell_type": "code",
   "execution_count": 2,
   "id": "eda627bd-59d3-42a3-9630-284af049fad2",
   "metadata": {},
   "outputs": [
    {
     "data": {
      "text/plain": [
       "3.3333333333333335"
      ]
     },
     "execution_count": 2,
     "metadata": {},
     "output_type": "execute_result"
    }
   ],
   "source": [
    "# This will convert 200 minutes to hours by diving by 60\n",
    "minutes = 200\n",
    "hours = minutes/60\n",
    "hours"
   ]
  },
  {
   "cell_type": "markdown",
   "id": "c6a91c17-e5b3-4f04-95b7-6c8a1f44add1",
   "metadata": {},
   "source": [
    "## Author\n",
    "Hrishikesh Anish"
   ]
  },
  {
   "cell_type": "code",
   "execution_count": null,
   "id": "a453c4c0-29e6-45ae-b875-544d91cbe0cb",
   "metadata": {},
   "outputs": [],
   "source": []
  }
 ],
 "metadata": {
  "kernelspec": {
   "display_name": "Python 3 (ipykernel)",
   "language": "python",
   "name": "python3"
  },
  "language_info": {
   "codemirror_mode": {
    "name": "ipython",
    "version": 3
   },
   "file_extension": ".py",
   "mimetype": "text/x-python",
   "name": "python",
   "nbconvert_exporter": "python",
   "pygments_lexer": "ipython3",
   "version": "3.13.3"
  }
 },
 "nbformat": 4,
 "nbformat_minor": 5
}
